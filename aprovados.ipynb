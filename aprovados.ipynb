{
 "cells": [
  {
   "cell_type": "code",
   "execution_count": null,
   "metadata": {},
   "outputs": [],
   "source": [
    "import pandas as pd\n",
    "import matplotlib.pyplot as plt\n",
    "from utils import *\n",
    "plt.close(\"all\")\n",
    "\n",
    "COLUMNS_NOTAS = ['name', 'Resultado', 'Notas Prova', 'Notas Workings', 'Nota Final']\n",
    "COLUMNS_INSCRITOS = ['name', 'cidade', 'sabe programar', 'escolaridade', 'genero', 'tem computador']\n",
    "PCT = 0.05\n",
    "\n",
    "def organize_notas(df):\n",
    "    df.columns =df.iloc[1] \n",
    "\n",
    "    notas =df.loc[2:, COLUMNS_NOTAS]\n",
    "    notas.columns = COLUMNS_NOTAS\n",
    "    notas = notas.reset_index(drop=True)\n",
    "\n",
    "    return notas\n",
    "\n",
    "notas_bruto_v = pd.read_csv(\"notas_vespertino.csv\")\n",
    "notas_bruto_m = pd.read_csv(\"notas_matutino.csv\")\n",
    "inscritos_bruto = pd.read_csv(\"inscritos.csv\")\n",
    "\n",
    "notas_m = organize_notas(notas_bruto_m)\n",
    "notas_v = organize_notas(notas_bruto_v)\n",
    "\n",
    "notas = pd.concat([notas_m, notas_v], ignore_index=True)\n",
    "\n",
    "inscritos = inscritos_bruto.loc[:, COLUMNS_INSCRITOS]\n",
    "\n",
    "inscritos.name = inscritos.name.str.lower()\n",
    "notas.name = notas.name.str.lower()\n",
    "notas_m.name = notas_m.name.str.lower()\n",
    "notas_v.name = notas_v.name.str.lower()\n",
    "\n",
    "geral = pd.merge(notas, inscritos, left_on='name', right_on='name')\n",
    "matutino = pd.merge(notas_m, inscritos, left_on='name', right_on='name')\n",
    "vespertino = pd.merge(notas_v, inscritos, left_on='name', right_on='name')\n",
    "aprovados = geral.loc[geral['Resultado'] == 'APROVADO']\n",
    "\n",
    "#not_merged = notas_m.loc[~notas_m.name.isin(matutino.name)]"
   ]
  },
  {
   "cell_type": "code",
   "execution_count": null,
   "metadata": {},
   "outputs": [],
   "source": [
    "import math\n",
    "\n",
    "def gera_tabela(geral, aprovados, nome):\n",
    "    analise_pct = (aprovados * 100) / geral\n",
    "\n",
    "    for i, v in analise_pct.items():\n",
    "        if math.isnan(v):\n",
    "            analise_pct[i] = 0\n",
    "\n",
    "    analise_pct = analise_pct.sort_values()\n",
    "\n",
    "    plt.figure(figsize=(8, 5))\n",
    "    plt.bar(analise_pct.index, analise_pct)\n",
    "\n",
    "    plt.xlabel(nome)\n",
    "    plt.ylabel('Aprovação (%)')\n",
    "    plt.title('Percentual de Aprovação em relação a ter computador')\n",
    "\n",
    "    for i, v in enumerate(analise_pct):\n",
    "        plt.text(i, v + 0.7, f\"{v:.2f}%\", ha='center')\n",
    "\n",
    "    plt.show()"
   ]
  },
  {
   "cell_type": "code",
   "execution_count": null,
   "metadata": {},
   "outputs": [],
   "source": [
    "#Sabe programar\n",
    "\n",
    "analise = analisa(aprovados, 'sabe programar', PCT)\n",
    "analise.plot.pie(autopct='%1.1f%%')"
   ]
  },
  {
   "cell_type": "code",
   "execution_count": null,
   "metadata": {},
   "outputs": [],
   "source": [
    "#Aprovados em relação a se sabiam  programar\n",
    "\n",
    "analise_geral = geral['sabe programar'].value_counts()\n",
    "analise_aprovados = aprovados['sabe programar'].value_counts()\n",
    "\n",
    "analise_geral = analise_geral.rename({True:'True', False:'False'})\n",
    "analise_aprovados = analise_aprovados.rename({True:'True', False:'False'})\n",
    "\n",
    "print(analise_geral, analise_aprovados)\n",
    "\n",
    "gera_tabela(analise_geral, analise_aprovados, \"sabe programar\")"
   ]
  },
  {
   "cell_type": "code",
   "execution_count": null,
   "metadata": {},
   "outputs": [],
   "source": [
    "#Cidade\n",
    "\n",
    "analise = analisa(aprovados, 'cidade', PCT, False)\n",
    "analise.plot.pie(autopct='%1.1f%%')\n"
   ]
  },
  {
   "cell_type": "code",
   "execution_count": null,
   "metadata": {},
   "outputs": [],
   "source": [
    "#Aprovados por cidade\n",
    "\n",
    "analise_geral = geral['cidade'].value_counts()\n",
    "analise_aprovados = aprovados['cidade'].value_counts()\n",
    "\n",
    "gera_tabela(analise_geral, analise_aprovados, 'Cidade')\n",
    "\n"
   ]
  },
  {
   "cell_type": "code",
   "execution_count": null,
   "metadata": {},
   "outputs": [],
   "source": [
    "#Escolaridade\n",
    "\n",
    "analise = analisa(aprovados, 'escolaridade', PCT, False)\n",
    "analise.plot.pie(autopct='%1.1f%%')"
   ]
  },
  {
   "cell_type": "code",
   "execution_count": null,
   "metadata": {},
   "outputs": [],
   "source": [
    "#Aprovados por escolaridade\n",
    "\n",
    "import math\n",
    "\n",
    "analise_geral = geral['escolaridade'].value_counts()\n",
    "analise_aprovados = aprovados['escolaridade'].value_counts()\n",
    "\n",
    "analise_geral = analise_geral.rename({'1° ano (Ensino Médio)': '2° ano', '2° ano (Ensino Médio)': '1° ano', '3° ano (Ensino Médio)': '3° ano', '4° ano (Ensino Médio)': '4° ano', 'EJA (Ensino médio)': 'EJA',\n",
    "                                  'Ensino médio completo até 2022': 'completo 2022', 'Ensino médio completo até 2023': 'completo 2023'})\n",
    "\n",
    "analise_aprovados = analise_aprovados.rename({'1° ano (Ensino Médio)': '2° ano', '2° ano (Ensino Médio)': '1° ano', '3° ano (Ensino Médio)': '3° ano', '4° ano (Ensino Médio)': '4° ano', 'EJA (Ensino médio)': 'EJA',\n",
    "                                  'Ensino médio completo até 2022': 'completo 2022', 'Ensino médio completo até 2023': 'completo 2023'})\n",
    "\n",
    "gera_tabela(analise_geral, analise_aprovados, \"Escolaridade\")\n"
   ]
  },
  {
   "cell_type": "code",
   "execution_count": null,
   "metadata": {},
   "outputs": [],
   "source": [
    "#Aprovados\n",
    "\n",
    "analise = analisa(vespertino, 'Resultado', PCT)\n",
    "analise.plot.pie(autopct='%1.1f%%')"
   ]
  },
  {
   "cell_type": "code",
   "execution_count": null,
   "metadata": {},
   "outputs": [],
   "source": [
    "#Genero\n",
    "\n",
    "analise = analisa(geral, 'genero', PCT)\n",
    "analise.plot.pie(autopct='%1.1f%%')"
   ]
  },
  {
   "cell_type": "code",
   "execution_count": null,
   "metadata": {},
   "outputs": [],
   "source": [
    "#Aprovados por Genêro\n",
    "\n",
    "analise_geral = geral['genero'].value_counts()\n",
    "analise_aprovados = aprovados['genero'].value_counts()\n",
    "\n",
    "gera_tabela(analise_geral, analise_aprovados, 'Gênero')"
   ]
  },
  {
   "cell_type": "code",
   "execution_count": null,
   "metadata": {},
   "outputs": [],
   "source": [
    "#Tem computador\n",
    "\n",
    "analise = analisa(geral, 'tem computador', PCT)\n",
    "analise.plot.pie(autopct='%1.1f%%')"
   ]
  },
  {
   "cell_type": "code",
   "execution_count": null,
   "metadata": {},
   "outputs": [],
   "source": [
    "#Relação aprovados e ter computador\n",
    "\n",
    "analise_geral = geral['tem computador'].value_counts()\n",
    "analise_aprovados = aprovados['tem computador'].value_counts()\n",
    "\n",
    "analise_geral = analise_geral.rename({True:'True', False:'False'})\n",
    "analise_aprovados = analise_aprovados.rename({True:'True', False:'False'})\n",
    "\n",
    "gera_tabela(analise_geral, analise_aprovados, 'tem computador')"
   ]
  },
  {
   "cell_type": "markdown",
   "metadata": {},
   "source": [
    "Perfil dos alunos do introcomp: adolescentes do gênero masculino (68.9%), moram em Vitória (27.8%), estão no 3º ano do Ensino Médio (43.3%) e não sabem programar (66.7%)\n",
    "\n",
    "Perfil dos aprovados: adolescentes do gênero masculino (73.9%), moram na Serra (26.1%), estão no 3º ano do Ensino Médio (39.1%) e não sabem programar (54.3%)"
   ]
  },
  {
   "cell_type": "code",
   "execution_count": null,
   "metadata": {},
   "outputs": [],
   "source": [
    "geral['Nota Final'] = geral['Nota Final'].map(lambda p: p.replace(',', '.'))\n",
    "geral['Nota Final'] = geral['Nota Final'].astype(float)"
   ]
  },
  {
   "cell_type": "code",
   "execution_count": null,
   "metadata": {},
   "outputs": [],
   "source": [
    "\n",
    "analise = geral.loc[geral['Nota Final'] != 0]\n",
    "analise = analise.groupby('tem computador')['Nota Final'].mean()\n",
    "analise = analise.sort_values(ascending=False)\n",
    "\n",
    "analise = analise.rename({True:\"True\", False:\"False\"})\n",
    "\n",
    "plt.figure(figsize=(11, 5))\n",
    "plt.bar(analise.index, analise)\n",
    "\n",
    "plt.xlabel('tem computador')\n",
    "plt.ylabel('Nota')\n",
    "\n",
    "for i, v in enumerate(analise):\n",
    "    plt.text(i, v + 0.1, f\"{v:.2f}\", ha='center')\n",
    "\n",
    "plt.show()\n"
   ]
  }
 ],
 "metadata": {
  "kernelspec": {
   "display_name": "Python 3",
   "language": "python",
   "name": "python3"
  },
  "language_info": {
   "codemirror_mode": {
    "name": "ipython",
    "version": 3
   },
   "file_extension": ".py",
   "mimetype": "text/x-python",
   "name": "python",
   "nbconvert_exporter": "python",
   "pygments_lexer": "ipython3",
   "version": "3.10.12"
  }
 },
 "nbformat": 4,
 "nbformat_minor": 2
}
