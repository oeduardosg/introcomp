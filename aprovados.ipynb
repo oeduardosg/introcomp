{
 "cells": [
  {
   "cell_type": "code",
   "execution_count": null,
   "metadata": {},
   "outputs": [],
   "source": [
    "import pandas as pd\n",
    "import matplotlib.pyplot as plt\n",
    "plt.close(\"all\")\n",
    "\n",
    "COLUMNS_NOTAS = ['name', 'Resultado']\n",
    "COLUMNS_INSCRITOS = ['name', 'cidade', 'sabe programar', 'escolaridade', 'genero']\n",
    "\n",
    "def organize_notas(df):\n",
    "    df.columns =df.iloc[1] \n",
    "\n",
    "    notas =df.loc[2:, COLUMNS_NOTAS]\n",
    "    notas.columns = COLUMNS_NOTAS\n",
    "    notas = notas.reset_index(drop=True)\n",
    "\n",
    "    return notas\n",
    "\n",
    "notas_bruto_v = pd.read_csv(\"notas_vespertino.csv\")\n",
    "notas_bruto_m = pd.read_csv(\"notas_matutino.csv\")\n",
    "inscritos_bruto = pd.read_csv(\"inscritos.csv\")\n",
    "\n",
    "notas_m = organize_notas(notas_bruto_m)\n",
    "notas_v = organize_notas(notas_bruto_v)\n",
    "\n",
    "notas = pd.concat([notas_m, notas_v], ignore_index=True)\n",
    "\n",
    "inscritos = inscritos_bruto.loc[:, COLUMNS_INSCRITOS]\n",
    "\n",
    "inscritos.name = inscritos.name.str.lower()\n",
    "notas.name = notas.name.str.lower()\n",
    "notas_m.name = notas_m.name.str.lower()\n",
    "notas_v.name = notas_v.name.str.lower()\n",
    "\n",
    "geral = pd.merge(notas, inscritos, left_on='name', right_on='name')\n",
    "matutino = pd.merge(notas_m, inscritos, left_on='name', right_on='name')\n",
    "vespertino = pd.merge(notas_v, inscritos, left_on='name', right_on='name')\n",
    "aprovados = geral.loc[geral['Resultado'] == 'APROVADO']\n",
    "\n",
    "#not_merged = notas_m.loc[~notas_m.name.isin(matutino.name)]\n",
    "\n"
   ]
  },
  {
   "cell_type": "code",
   "execution_count": null,
   "metadata": {},
   "outputs": [],
   "source": [
    "#função que define a seção 'outros' no gráfico\n",
    "\n",
    "def outros(df):\n",
    "    size = 0\n",
    "    for i, v in df.items():\n",
    "        size += v\n",
    "    cutoff = size * 5 / 100\n",
    "    \n",
    "    count = 0\n",
    "    for i, v in df.items():\n",
    "        if v < cutoff:\n",
    "            count += v\n",
    "            df.pop(i)\n",
    "\n",
    "    if count > 0: df[\"Outros\"] = count\n",
    "    return df\n",
    "\n",
    "def analisa(df, dado, nome):\n",
    "    analise = df[dado].value_counts()\n",
    "    print(analise)\n",
    "\n",
    "    analise = outros(analise)\n",
    "    if nome: analise.name = dado\n",
    "    analise.plot.pie(autopct='%1.1f%%')\n",
    "\n",
    "    return analise"
   ]
  },
  {
   "cell_type": "code",
   "execution_count": null,
   "metadata": {},
   "outputs": [],
   "source": [
    "#Sabe programar\n",
    "\n",
    "analise = analisa(geral, 'sabe programar', True)\n",
    "analise.plot.pie(autopct='%1.1f%%')"
   ]
  },
  {
   "cell_type": "code",
   "execution_count": null,
   "metadata": {},
   "outputs": [],
   "source": [
    "#Cidade\n",
    "\n",
    "analise = analisa(geral, 'cidade', False)\n",
    "analise.plot.pie(autopct='%1.1f%%')\n"
   ]
  },
  {
   "cell_type": "code",
   "execution_count": null,
   "metadata": {},
   "outputs": [],
   "source": [
    "#Escolaridade\n",
    "\n",
    "analise = analisa(geral, 'escolaridade', False)\n",
    "analise.plot.pie(autopct='%1.1f%%')"
   ]
  },
  {
   "cell_type": "code",
   "execution_count": null,
   "metadata": {},
   "outputs": [],
   "source": [
    "#Aprovados\n",
    "\n",
    "analise = analisa(vespertino, 'Resultado', True)\n",
    "analise.plot.pie(autopct='%1.1f%%')"
   ]
  },
  {
   "cell_type": "code",
   "execution_count": null,
   "metadata": {},
   "outputs": [],
   "source": [
    "#Genero\n",
    "\n",
    "analise = analisa(geral, 'genero', True)\n",
    "analise.plot.pie(autopct='%1.1f%%')"
   ]
  }
 ],
 "metadata": {
  "kernelspec": {
   "display_name": "Python 3",
   "language": "python",
   "name": "python3"
  },
  "language_info": {
   "codemirror_mode": {
    "name": "ipython",
    "version": 3
   },
   "file_extension": ".py",
   "mimetype": "text/x-python",
   "name": "python",
   "nbconvert_exporter": "python",
   "pygments_lexer": "ipython3",
   "version": "3.10.12"
  }
 },
 "nbformat": 4,
 "nbformat_minor": 2
}
