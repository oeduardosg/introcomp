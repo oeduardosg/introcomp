{
 "cells": [
  {
   "cell_type": "code",
   "execution_count": 119,
   "metadata": {},
   "outputs": [],
   "source": [
    "import pandas as pd\n",
    "import matplotlib.pyplot as plt\n",
    "from utils import *\n",
    "plt.close(\"all\")\n",
    "\n",
    "COLUMNS_NOTAS = ['name', 'Resultado', 'Notas Prova', 'Notas Workings', 'Nota Final']\n",
    "COLUMNS_INSCRITOS = ['name', 'cidade', 'sabe programar', 'escolaridade', 'genero']\n",
    "PCT = 0.05\n",
    "\n",
    "def organize_notas(df):\n",
    "    df.columns =df.iloc[1] \n",
    "\n",
    "    notas =df.loc[2:, COLUMNS_NOTAS]\n",
    "    notas.columns = COLUMNS_NOTAS\n",
    "    notas = notas.reset_index(drop=True)\n",
    "\n",
    "    return notas\n",
    "\n",
    "notas_bruto_v = pd.read_csv(\"notas_vespertino.csv\")\n",
    "notas_bruto_m = pd.read_csv(\"notas_matutino.csv\")\n",
    "inscritos_bruto = pd.read_csv(\"inscritos.csv\")\n",
    "\n",
    "notas_m = organize_notas(notas_bruto_m)\n",
    "notas_v = organize_notas(notas_bruto_v)\n",
    "\n",
    "notas = pd.concat([notas_m, notas_v], ignore_index=True)\n",
    "\n",
    "inscritos = inscritos_bruto.loc[:, COLUMNS_INSCRITOS]\n",
    "\n",
    "inscritos.name = inscritos.name.str.lower()\n",
    "notas.name = notas.name.str.lower()\n",
    "notas_m.name = notas_m.name.str.lower()\n",
    "notas_v.name = notas_v.name.str.lower()\n",
    "\n",
    "geral = pd.merge(notas, inscritos, left_on='name', right_on='name')\n",
    "matutino = pd.merge(notas_m, inscritos, left_on='name', right_on='name')\n",
    "vespertino = pd.merge(notas_v, inscritos, left_on='name', right_on='name')\n",
    "aprovados = geral.loc[geral['Resultado'] == 'APROVADO']\n",
    "\n",
    "#not_merged = notas_m.loc[~notas_m.name.isin(matutino.name)]\n",
    "\n"
   ]
  },
  {
   "cell_type": "code",
   "execution_count": null,
   "metadata": {},
   "outputs": [],
   "source": [
    "#Sabe programar\n",
    "\n",
    "analise = analisa(aprovados, 'sabe programar', PCT)\n",
    "analise.plot.pie(autopct='%1.1f%%')"
   ]
  },
  {
   "cell_type": "code",
   "execution_count": null,
   "metadata": {},
   "outputs": [],
   "source": [
    "#Aprovados em relação a se sabiam  programar\n",
    "\n",
    "sabiam_programar = geral.loc[geral['sabe programar'] == True]\n",
    "analise = analisa(sabiam_programar, 'Resultado', PCT, nome='sabiam programar')\n",
    "analise.plot.pie(autopct='%1.1f%%')\n"
   ]
  },
  {
   "cell_type": "code",
   "execution_count": null,
   "metadata": {},
   "outputs": [],
   "source": [
    "#Cidade\n",
    "\n",
    "analise = analisa(geral, 'cidade', PCT, False)\n",
    "analise.plot.pie(autopct='%1.1f%%')\n"
   ]
  },
  {
   "cell_type": "code",
   "execution_count": null,
   "metadata": {},
   "outputs": [],
   "source": [
    "#Escolaridade\n",
    "\n",
    "analise = analisa(aprovados, 'escolaridade', PCT, False)\n",
    "analise.plot.pie(autopct='%1.1f%%')"
   ]
  },
  {
   "cell_type": "code",
   "execution_count": null,
   "metadata": {},
   "outputs": [],
   "source": [
    "#Aprovados\n",
    "\n",
    "analise = analisa(vespertino, 'Resultado', PCT)\n",
    "analise.plot.pie(autopct='%1.1f%%')"
   ]
  },
  {
   "cell_type": "code",
   "execution_count": null,
   "metadata": {},
   "outputs": [],
   "source": [
    "#Genero\n",
    "\n",
    "analise = analisa(aprovados, 'genero', PCT)\n",
    "analise.plot.pie(autopct='%1.1f%%')"
   ]
  },
  {
   "cell_type": "code",
   "execution_count": null,
   "metadata": {},
   "outputs": [],
   "source": [
    "#Mulheres Aprovadas\n",
    "\n",
    "mulheres = geral.loc[geral.genero == 'female']\n",
    "analise = analisa(mulheres, 'Resultado', PCT, nome='mulheres')\n",
    "analise.plot.pie(autopct='%1.1f%%')"
   ]
  },
  {
   "cell_type": "markdown",
   "metadata": {},
   "source": [
    "Perfil dos alunos do introcomp: adolescentes do gênero masculino (68.9%), moram em Vitória (27.8%), estão no 3º ano do Ensino Médio (43.3%) e não sabem programar (66.7%)\n",
    "\n",
    "Perfil dos aprovados: adolescentes do gênero masculino (73.9%), moram na Serra (26.1%), estão no 3º ano do Ensino Médio (39.1%) e não sabem programar (54.3%)"
   ]
  },
  {
   "cell_type": "code",
   "execution_count": 120,
   "metadata": {},
   "outputs": [],
   "source": [
    "geral['Nota Final'] = geral['Nota Final'].map(lambda p: p.replace(',', '.'))\n",
    "geral['Nota Final'] = geral['Nota Final'].astype(float)"
   ]
  },
  {
   "cell_type": "code",
   "execution_count": 127,
   "metadata": {},
   "outputs": [
    {
     "data": {
      "text/plain": [
       "<Axes: xlabel='cidade'>"
      ]
     },
     "execution_count": 127,
     "metadata": {},
     "output_type": "execute_result"
    },
    {
     "data": {
      "image/png": "[encoded data removed]",
      "text/plain": [
       "<Figure size 640x480 with 1 Axes>"
      ]
     },
     "metadata": {},
     "output_type": "display_data"
    }
   ],
   "source": [
    "\n",
    "analise = geral.loc[geral['Nota Final'] != 0]\n",
    "analise = analise.groupby('cidade')['Nota Final'].mean()\n",
    "analise = analise.sort_values(ascending=False)\n",
    "analise.plot.bar()\n"
   ]
  }
 ],
 "metadata": {
  "kernelspec": {
   "display_name": "Python 3",
   "language": "python",
   "name": "python3"
  },
  "language_info": {
   "codemirror_mode": {
    "name": "ipython",
    "version": 3
   },
   "file_extension": ".py",
   "mimetype": "text/x-python",
   "name": "python",
   "nbconvert_exporter": "python",
   "pygments_lexer": "ipython3",
   "version": "3.10.12"
  }
 },
 "nbformat": 4,
 "nbformat_minor": 2
}
