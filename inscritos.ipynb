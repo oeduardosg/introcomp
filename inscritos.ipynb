{
 "cells": [
  {
   "cell_type": "markdown",
   "metadata": {},
   "source": [
    "Esse código tem o objetivo de analisar o perfil dos estudantes inscritos no Introcomp. Para analisar uma edição diferente, mude o parâmetro em EDICAO abaixo."
   ]
  },
  {
   "cell_type": "code",
   "execution_count": null,
   "metadata": {},
   "outputs": [],
   "source": [
    "import pandas as pd\n",
    "from utils import *\n",
    "\n",
    "EDICAO = \"inscritos_2024.csv\"\n",
    "PCT = 0.02\n",
    "\n",
    "df = pd.read_csv(EDICAO)"
   ]
  },
  {
   "cell_type": "markdown",
   "metadata": {},
   "source": [
    "A análise abaixo exibe a porcentagem de alunos que se inscreveu a partir de suas cidades de origem."
   ]
  },
  {
   "cell_type": "code",
   "execution_count": null,
   "metadata": {},
   "outputs": [],
   "source": [
    "#Cidade\n",
    "\n",
    "cidade = analisa(df, 'cidade', PCT, False)\n",
    "cidade.plot.pie(subplots=True, figsize=(8, 8), autopct='%1.1f%%', explode = (0.05, 0.025, 0, 0, 0, 0))"
   ]
  },
  {
   "cell_type": "markdown",
   "metadata": {},
   "source": [
    "Turno de preferência dos estudantes."
   ]
  },
  {
   "cell_type": "code",
   "execution_count": null,
   "metadata": {},
   "outputs": [],
   "source": [
    "#Turno\n",
    "\n",
    "turno = analisa(df, 'turno', PCT, False)\n",
    "turno = turno.rename({'morning': 'Matutino', 'afternoon': 'Vespertino'})\n",
    "turno.plot.pie(subplots=True, figsize=(8, 8), autopct='%1.1f%%')"
   ]
  },
  {
   "cell_type": "markdown",
   "metadata": {},
   "source": [
    "Escolaridade dos alunos."
   ]
  },
  {
   "cell_type": "code",
   "execution_count": null,
   "metadata": {},
   "outputs": [],
   "source": [
    "#Escolaridade\n",
    "\n",
    "escolaridade = analisa(df, 'escolaridade', PCT, False)\n",
    "escolaridade.plot.pie(subplots=True, autopct='%1.1f%%', shadow={'ox': -0.01, 'edgecolor': 'grey', 'shade': 0.9})"
   ]
  },
  {
   "cell_type": "markdown",
   "metadata": {},
   "source": [
    "Gênero dos inscritos."
   ]
  },
  {
   "cell_type": "code",
   "execution_count": null,
   "metadata": {},
   "outputs": [],
   "source": [
    "#Gênero\n",
    "\n",
    "genero = analisa(df, 'genero', PCT, False)\n",
    "genero = genero.rename({'male': 'Masculino', 'female': 'Feminino'})\n",
    "genero.plot.bar(xlabel='', color=['pink', 'royalblue', 'lightgreen'])"
   ]
  },
  {
   "cell_type": "markdown",
   "metadata": {},
   "source": [
    "Informações de como o aluno soube do Introcomp."
   ]
  },
  {
   "cell_type": "code",
   "execution_count": null,
   "metadata": {},
   "outputs": [],
   "source": [
    "#Como soube do Introcomp\n",
    "\n",
    "n_escolas = df['como soube do Introcomp'].map(lambda x: 'escola' in x.lower()).sum()\n",
    "alcance = df[~df['como soube do Introcomp'].str.contains('escola', case=False)]\n",
    "alcance = analisa(alcance, 'como soube do Introcomp', PCT, False)\n",
    "\n",
    "alcance['Escola'] = n_escolas\n",
    "\n",
    "alcance = alcance.sort_values(ascending=False)\n",
    "alcance.plot.bar(xlabel='', color=['royalblue', 'orange'])"
   ]
  }
 ],
 "metadata": {
  "kernelspec": {
   "display_name": "Python 3",
   "language": "python",
   "name": "python3"
  },
  "language_info": {
   "codemirror_mode": {
    "name": "ipython",
    "version": 3
   },
   "file_extension": ".py",
   "mimetype": "text/x-python",
   "name": "python",
   "nbconvert_exporter": "python",
   "pygments_lexer": "ipython3",
   "version": "3.10.12"
  }
 },
 "nbformat": 4,
 "nbformat_minor": 2
}
