{
 "cells": [
  {
   "cell_type": "markdown",
   "metadata": {},
   "source": [
    "Esse código tem o objetivo de analisar o perfil dos estudantes inscritos no Introcomp. Para analisar uma edição diferente, mude o parâmetro em EDICAO abaixo."
   ]
  },
  {
   "cell_type": "code",
   "execution_count": null,
   "metadata": {},
   "outputs": [],
   "source": [
    "import pandas as pd\n",
    "import matplotlib.pyplot as plt\n",
    "plt.close(\"all\")\n",
    "\n",
    "EDICAO = \"inscritos_2024.csv\"\n",
    "df = pd.read_csv(EDICAO)"
   ]
  },
  {
   "cell_type": "markdown",
   "metadata": {},
   "source": [
    "A análise abaixo exibe a porcentagem de alunos que se inscreveu a partir de suas cidades de origem."
   ]
  },
  {
   "cell_type": "code",
   "execution_count": null,
   "metadata": {},
   "outputs": [],
   "source": [
    "#Cidade\n",
    "\n",
    "cidade = df.cidade.value_counts()\n",
    "cidade.name = 'Cidade de Origem'\n",
    "print(cidade)\n",
    "\n",
    "cidade['Outros'] = 0\n",
    "\n",
    "for i, v in cidade.items():\n",
    "    if v <= 10 and i != 'Outros':\n",
    "        cidade['Outros'] += v\n",
    "        cidade.pop(i)\n",
    "\n",
    "cidade.plot.pie(subplots=True, figsize=(8, 8), autopct='%1.1f%%', shadow={'ox': -0.01, 'edgecolor': 'grey', 'shade': 0.9})"
   ]
  },
  {
   "cell_type": "markdown",
   "metadata": {},
   "source": []
  },
  {
   "cell_type": "code",
   "execution_count": null,
   "metadata": {},
   "outputs": [],
   "source": [
    "#Escolaridade\n",
    "\n",
    "escolaridade = df.escolaridade.value_counts()\n",
    "escolaridade.name = 'Escolaridade'\n",
    "print(escolaridade)\n",
    "\n",
    "escolaridade['Outros'] = 0\n",
    "\n",
    "for i, v in escolaridade.items():\n",
    "    if v <= 10 and i != 'Outros':\n",
    "        escolaridade['Outros'] += v\n",
    "        escolaridade.pop(i)\n",
    "\n",
    "escolaridade.plot.pie(subplots=True, figsize=(8, 8), autopct='%1.1f%%', shadow={'ox': -0.01, 'edgecolor': 'grey', 'shade': 0.9})"
   ]
  }
 ],
 "metadata": {
  "kernelspec": {
   "display_name": "Python 3",
   "language": "python",
   "name": "python3"
  },
  "language_info": {
   "codemirror_mode": {
    "name": "ipython",
    "version": 3
   },
   "file_extension": ".py",
   "mimetype": "text/x-python",
   "name": "python",
   "nbconvert_exporter": "python",
   "pygments_lexer": "ipython3",
   "version": "3.10.12"
  }
 },
 "nbformat": 4,
 "nbformat_minor": 2
}
