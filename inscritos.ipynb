{
 "cells": [
  {
   "cell_type": "markdown",
   "metadata": {},
   "source": [
    "Esse código tem o objetivo de analisar o perfil dos estudantes inscritos no Introcomp. Para analisar uma edição diferente, mude o parâmetro em EDICAO abaixo."
   ]
  },
  {
   "cell_type": "code",
   "execution_count": null,
   "metadata": {},
   "outputs": [],
   "source": [
    "import pandas as pd\n",
    "from utils import *\n",
    "\n",
    "EDICAO = \"inscritos_2024.csv\"\n",
    "PCT = 0.05\n",
    "\n",
    "df = pd.read_csv(EDICAO)"
   ]
  },
  {
   "cell_type": "markdown",
   "metadata": {},
   "source": [
    "A análise abaixo exibe a porcentagem de alunos que se inscreveu a partir de suas cidades de origem."
   ]
  },
  {
   "cell_type": "code",
   "execution_count": null,
   "metadata": {},
   "outputs": [],
   "source": [
    "#Cidade\n",
    "\n",
    "cidade = analisa(df, 'cidade', PCT, False)\n",
    "cidade.plot.pie(subplots=True, figsize=(8, 8), autopct='%1.1f%%', shadow={'ox': -0.01, 'edgecolor': 'grey', 'shade': 0.9}, explode = (0.05, 0.025, 0, 0, 0, 0))"
   ]
  },
  {
   "cell_type": "code",
   "execution_count": null,
   "metadata": {},
   "outputs": [],
   "source": [
    "#Escolaridade\n",
    "\n",
    "escolaridade = analisa(df, 'escolaridade', PCT, False)\n",
    "escolaridade.plot.pie(subplots=True, figsize=(8, 8), autopct='%1.1f%%', shadow={'ox': -0.01, 'edgecolor': 'grey', 'shade': 0.9})"
   ]
  },
  {
   "cell_type": "markdown",
   "metadata": {},
   "source": []
  },
  {
   "cell_type": "code",
   "execution_count": null,
   "metadata": {},
   "outputs": [],
   "source": [
    "#Gênero\n",
    "\n",
    "genero = analisa(df, 'genero', PCT, False)\n",
    "genero.plot.bar(color=['pink', 'lightblue', 'lightgreen'])"
   ]
  },
  {
   "cell_type": "markdown",
   "metadata": {},
   "source": []
  },
  {
   "cell_type": "code",
   "execution_count": null,
   "metadata": {},
   "outputs": [],
   "source": [
    "#Como soube do Introcomp\n",
    "\n",
    "alcance = analisa(df, 'como soube do Introcomp', PCT, False)\n",
    "alcance = alcance.sort_values(ascending=False)\n",
    "alcance.plot.bar()"
   ]
  }
 ],
 "metadata": {
  "kernelspec": {
   "display_name": "Python 3",
   "language": "python",
   "name": "python3"
  },
  "language_info": {
   "codemirror_mode": {
    "name": "ipython",
    "version": 3
   },
   "file_extension": ".py",
   "mimetype": "text/x-python",
   "name": "python",
   "nbconvert_exporter": "python",
   "pygments_lexer": "ipython3",
   "version": "3.10.12"
  }
 },
 "nbformat": 4,
 "nbformat_minor": 2
}
