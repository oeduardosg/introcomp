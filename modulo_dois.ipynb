{
 "cells": [
  {
   "cell_type": "code",
   "execution_count": null,
   "metadata": {},
   "outputs": [],
   "source": [
    "import pandas as pd\n",
    "import matplotlib.pyplot as plt\n",
    "from utils import *\n",
    "plt.close(\"all\")\n",
    "\n",
    "def converter_presenca(df, coluna='Presença'):\n",
    "    df[coluna] = (\n",
    "        df[coluna]\n",
    "        .astype(str)  \n",
    "        .str.strip() \n",
    "        .str.replace(',', '.', regex=True)  \n",
    "        .str.replace('%', '', regex=True)  \n",
    "        .astype(float) \n",
    "    )\n",
    "    return df\n",
    "\n",
    "PCT = 0.05\n",
    "\n",
    "matutino2_chamada = pd.read_csv('Chamada - Introcomp 2024 - Módulo 2 - Matutino(1).csv')\n",
    "matutino2_chamada = converter_presenca(matutino2_chamada)\n",
    "matutino2_chamada.rename(columns={'Unnamed: 0': 'Nome'}, inplace=True)\n",
    "\n",
    "vespertino2_chamada = pd.read_csv('Chamada - Introcomp 2024 - Módulo 2 - Vespertino(1).csv')\n",
    "vespertino2_chamada = converter_presenca(vespertino2_chamada)\n",
    "vespertino2_chamada.rename(columns={'Unnamed: 0': 'Nome'}, inplace=True)\n",
    "\n",
    "#o nome do luiz tava errado na tabela de chamada...\n",
    "matutino2_chamada['Nome'] = matutino2_chamada['Nome'].replace(\n",
    "    \"luiz antônio de paula da silva toledo\",\n",
    "    \"luiz antönio de paula da silva toledo\"\n",
    ")\n",
    "#e do paulo tambem....\n",
    "matutino2_chamada['Nome'] = matutino2_chamada['Nome'].replace(\n",
    "    \"paulo vítor borges sangali\",\n",
    "    \"paulo vítor borge sangali\"\n",
    ")\n",
    "\n",
    "faltaM_2 = matutino2_chamada[matutino2_chamada['Presença'] < 50]\n",
    "faltaV_2 = vespertino2_chamada[vespertino2_chamada['Presença'] < 50]\n",
    "\n",
    "alunos_manha = pd.read_csv('Processo Seletivo 2024 - Aprovados matutino.csv')\n",
    "alunos_manha.rename(columns={'name': 'Nome'}, inplace=True)\n",
    "alunos_manha.Nome = alunos_manha.Nome.str.lower()\n",
    "\n",
    "alunos_tarde = pd.read_csv('Processo Seletivo 2024 - Aprovados vespertino.csv')\n",
    "alunos_tarde.rename(columns={'name': 'Nome'}, inplace=True)\n",
    "alunos_tarde.Nome = alunos_tarde.Nome.str.lower()\n",
    "\n",
    "alunos_geral = pd.concat([alunos_manha, alunos_tarde], ignore_index= True)\n",
    "\n",
    "nome_evadidos = pd.concat([faltaM_2['Nome'], faltaV_2['Nome']], ignore_index= True)\n",
    "nome_evadidos = nome_evadidos.to_frame('Nome')\n",
    "nome_evadidos.Nome = nome_evadidos.Nome.str.lower() \n",
    "\n",
    "nome_matutino = matutino2_chamada['Nome']\n",
    "nome_vespertino = vespertino2_chamada['Nome']\n",
    "nome_vespertino = nome_vespertino.str.lower()\n",
    "nome_vespertino = nome_vespertino.to_frame('Nome')\n",
    "nome_matutino = nome_matutino.str.lower()\n",
    "nome_matutino = nome_matutino.to_frame('Nome')\n",
    "\n",
    "qnd_evadidos = len(faltaM_2) + len(faltaV_2)\n",
    "qnd_alunos2 = len(nome_matutino) + len(nome_vespertino)"
   ]
  },
  {
   "cell_type": "code",
   "execution_count": null,
   "metadata": {},
   "outputs": [],
   "source": [
    "inscritos = pd.read_csv('Inscrições 2024 - Página1.csv')\n",
    "inscritos.rename(columns={'name': 'Nome'}, inplace=True)\n",
    "inscritos.Nome = inscritos.Nome.str.lower()\n",
    "\n",
    "COLUMNS_INSCRITOS = ['Nome', 'cidade', 'sabe programar', 'escolaridade', 'genero', 'tem computador', 'tem internet'] #obrigado gabriel s2\n",
    "inscritos = inscritos.loc[:, COLUMNS_INSCRITOS]\n",
    "\n",
    "dados_evadidos = pd.merge(nome_evadidos, inscritos, left_on= 'Nome', right_on='Nome')\n",
    "dados_evadidos"
   ]
  },
  {
   "cell_type": "code",
   "execution_count": null,
   "metadata": {},
   "outputs": [],
   "source": [
    "resultado_matutino = pd.read_csv('Notas módulo 2 - Matutino_Notas.csv')\n",
    "resultado_matutino.rename(columns={'name': 'Nome'}, inplace=True)\n",
    "resultado_matutino = resultado_matutino.loc[:, ['Nome', 'Trabalho', 'Resultado']]\n",
    "resultado_matutino.Nome = resultado_matutino.Nome.str.lower()\n"
   ]
  },
  {
   "cell_type": "code",
   "execution_count": null,
   "metadata": {},
   "outputs": [],
   "source": [
    "grafico_matutino = analisa(resultado_matutino, 'Resultado', PCT, False)\n",
    "grafico_matutino.plot.pie(\n",
    "    figsize=(8, 8), \n",
    "    autopct='%1.1f%%', \n",
    "    shadow=True,  \n",
    "    explode=(0.05, 0.025),\n",
    "    title = (f\"Aprovados no turno matutino\")\n",
    ")"
   ]
  },
  {
   "cell_type": "code",
   "execution_count": null,
   "metadata": {},
   "outputs": [],
   "source": [
    "resultado_vespertino = pd.read_csv('Notas módulo 2 - Vespertino_Notas.csv')\n",
    "resultado_vespertino.rename(columns={'name': 'Nome'}, inplace=True)\n",
    "resultado_vespertino = resultado_vespertino.loc[:, ['Nome', 'Trabalho', 'Resultado']]\n",
    "resultado_vespertino.Nome = resultado_vespertino.Nome.str.lower()\n",
    "resultado_vespertino"
   ]
  },
  {
   "cell_type": "code",
   "execution_count": null,
   "metadata": {},
   "outputs": [],
   "source": [
    "grafico_vespertino = analisa(resultado_vespertino, 'Resultado', PCT, False)\n",
    "grafico_vespertino.plot.pie(\n",
    "    figsize=(8, 8), \n",
    "    autopct='%1.1f%%', \n",
    "    shadow=True,  \n",
    "    explode=(0.05, 0.025),\n",
    "    title = (f\"aprovados no turno vespertino\")\n",
    ")"
   ]
  },
  {
   "cell_type": "code",
   "execution_count": null,
   "metadata": {},
   "outputs": [],
   "source": [
    "matutino_aprovado = resultado_matutino[resultado_matutino['Resultado'] == 'APROVADO']\n",
    "vespertino_aprovado = resultado_vespertino[resultado_vespertino['Resultado'] == 'APROVADO']\n",
    "\n",
    "aprovados = pd.concat([matutino_aprovado, vespertino_aprovado])\n",
    "geral = pd.concat([nome_matutino, nome_vespertino])\n",
    "aprovados['Nome'] = aprovados['Nome'].replace(\n",
    "    \"luiz antônio de paula da silva toledo\",\n",
    "    \"luiz antönio de paula da silva toledo\"\n",
    ")\n",
    "#e do paulo tambem....\n",
    "aprovados['Nome'] = aprovados['Nome'].replace(\n",
    "    \"paulo vítor borges sangali\",\n",
    "    \"paulo vítor borge sangali\"\n",
    ")\n",
    "dados_aprovados = pd.merge(aprovados, inscritos, on='Nome', how='left')\n",
    "dados_geral = pd.merge(geral, inscritos, on = 'Nome', how = 'left')\n",
    "dados_aprovados"
   ]
  },
  {
   "cell_type": "code",
   "execution_count": null,
   "metadata": {},
   "outputs": [],
   "source": [
    "computador_geral = analisa(dados_geral, 'tem computador', PCT, False)\n",
    "computador_geral.plot.pie(\n",
    "    figsize=(8, 8), \n",
    "    autopct='%1.1f%%', \n",
    "    shadow=True,  \n",
    "    explode = (0.05, 0),\n",
    "    title = (f\"Alunos do modulo 2 tem computador?\")\n",
    ")"
   ]
  },
  {
   "cell_type": "code",
   "execution_count": null,
   "metadata": {},
   "outputs": [],
   "source": [
    "internet_geral = analisa(dados_geral, 'tem internet', False)\n",
    "internet_geral.plot.pie(\n",
    "    figsize=(8, 8), \n",
    "    autopct='%1.1f%%', \n",
    "    shadow=True,  \n",
    "    explode = (0.05, 0),\n",
    "    title = (f\"Alunos do modulo 2 tem internet?\")\n",
    ")"
   ]
  },
  {
   "cell_type": "code",
   "execution_count": null,
   "metadata": {},
   "outputs": [],
   "source": [
    "porcentagem_evadidos = (qnd_evadidos / qnd_alunos2) * 100\n",
    "\n",
    "\n",
    "labels = ['Não Evadidos', 'Evadidos']\n",
    "sizes = [qnd_alunos2 - qnd_evadidos, qnd_evadidos ]\n",
    "explode = (0.1, 0)  \n",
    "\n",
    "plt.figure(figsize=(6, 6))\n",
    "plt.pie(sizes, explode=explode, labels=labels, autopct='%1.1f%%', startangle=90)\n",
    "plt.title(f'Porcentagem de Evadidos: {porcentagem_evadidos:.2f}%')\n",
    "plt.axis('equal')  \n",
    "plt.show()"
   ]
  },
  {
   "cell_type": "code",
   "execution_count": null,
   "metadata": {},
   "outputs": [],
   "source": [
    "computador_aprovados = analisa(dados_aprovados, 'tem computador', PCT, False)\n",
    "computador_aprovados.plot.pie(\n",
    "    figsize=(8, 8), \n",
    "    autopct='%1.1f%%', \n",
    "    shadow=True,  \n",
    "    #explode = (0.05),\n",
    "    title = (f\"Alunos aprovados do modulo 2 tem computador?\")\n",
    ")"
   ]
  },
  {
   "cell_type": "code",
   "execution_count": null,
   "metadata": {},
   "outputs": [],
   "source": [
    "internet_aprovados = analisa(dados_aprovados, 'tem internet', PCT, False)\n",
    "internet_aprovados.plot.pie(\n",
    "    figsize=(8, 8), \n",
    "    autopct='%1.1f%%', \n",
    "    shadow=True,  \n",
    "    #explode = (0.05),\n",
    "    title = (f\"Alunos aprovados do modulo 2 tem internet?\")\n",
    ")"
   ]
  },
  {
   "cell_type": "code",
   "execution_count": null,
   "metadata": {},
   "outputs": [],
   "source": [
    "programar_aprovados = analisa(dados_aprovados, 'sabe programar', PCT, False)\n",
    "programar_aprovados.plot.pie(\n",
    "    figsize=(8, 8), \n",
    "    autopct='%1.1f%%', \n",
    "    shadow=True,  \n",
    "    #explode = (0.05, 0),\n",
    "    title = (f\"Alunos aprovados do modulo 2 sabem programar?\")\n",
    ")"
   ]
  },
  {
   "cell_type": "code",
   "execution_count": null,
   "metadata": {},
   "outputs": [],
   "source": [
    "cidade_aprovados = analisa(dados_aprovados, 'cidade', PCT, False)\n",
    "cidade_aprovados.plot.pie(\n",
    "    figsize=(8, 8), \n",
    "    autopct='%1.1f%%', \n",
    "    shadow=True,  \n",
    "    explode=(0.05, 0.025, 0, 0),\n",
    "    title = (f'Cidade dos aprovados:')\n",
    ")"
   ]
  }
 ],
 "metadata": {
  "kernelspec": {
   "display_name": "Python 3 (ipykernel)",
   "language": "python",
   "name": "python3"
  },
  "language_info": {
   "codemirror_mode": {
    "name": "ipython",
    "version": 3
   },
   "file_extension": ".py",
   "mimetype": "text/x-python",
   "name": "python",
   "nbconvert_exporter": "python",
   "pygments_lexer": "ipython3",
   "version": "3.10.12"
  }
 },
 "nbformat": 4,
 "nbformat_minor": 4
}
